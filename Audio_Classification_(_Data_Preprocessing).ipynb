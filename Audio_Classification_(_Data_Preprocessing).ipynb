{
  "nbformat": 4,
  "nbformat_minor": 0,
  "metadata": {
    "colab": {
      "name": "Audio Classification ( Data Preprocessing).ipynb",
      "provenance": [],
      "collapsed_sections": []
    },
    "kernelspec": {
      "name": "python3",
      "display_name": "Python 3"
    },
    "language_info": {
      "name": "python"
    }
  },
  "cells": [
    {
      "cell_type": "code",
      "metadata": {
        "colab": {
          "base_uri": "https://localhost:8080/"
        },
        "id": "tDY1snc8dIeh",
        "outputId": "3a13563b-0b67-48c2-e39e-f8f5a50d0eed"
      },
      "source": [
        "from google.colab import drive\n",
        "drive.mount(\"/content/drive\")"
      ],
      "execution_count": 1,
      "outputs": [
        {
          "output_type": "stream",
          "text": [
            "Drive already mounted at /content/drive; to attempt to forcibly remount, call drive.mount(\"/content/drive\", force_remount=True).\n"
          ],
          "name": "stdout"
        }
      ]
    },
    {
      "cell_type": "markdown",
      "metadata": {
        "id": "0bdEhLdLepnS"
      },
      "source": [
        "IMPORT THE BASIC LIBRARIES"
      ]
    },
    {
      "cell_type": "code",
      "metadata": {
        "id": "JhVHjkPWd5_E"
      },
      "source": [
        "import pandas as pd\n",
        "import numpy as np\n",
        "import matplotlib.pyplot as plt\n",
        "import os\n",
        "%matplotlib inline"
      ],
      "execution_count": 2,
      "outputs": []
    },
    {
      "cell_type": "code",
      "metadata": {
        "colab": {
          "base_uri": "https://localhost:8080/"
        },
        "id": "kz93IkftfeHX",
        "outputId": "7228e8f6-9525-4a77-8da8-168a9b733e95"
      },
      "source": [
        "#Lets read the sample data from the audio using librosa\n",
        "import librosa\n",
        "audio_file = \"/content/drive/MyDrive/Dataset/157.wav\"\n",
        "audio_data, audio_sample_rate = librosa.load(audio_file)\n",
        "audio_data"
      ],
      "execution_count": 3,
      "outputs": [
        {
          "output_type": "execute_result",
          "data": {
            "text/plain": [
              "array([ 2.1908805e-05, -5.1910043e-05, -6.1363331e-05, ...,\n",
              "       -4.5554889e-06,  3.2918319e-06,  0.0000000e+00], dtype=float32)"
            ]
          },
          "metadata": {
            "tags": []
          },
          "execution_count": 3
        }
      ]
    },
    {
      "cell_type": "code",
      "metadata": {
        "colab": {
          "base_uri": "https://localhost:8080/",
          "height": 337
        },
        "id": "VRwT88u8feD5",
        "outputId": "83b7b392-0c7e-4477-ee9f-22e606e991e0"
      },
      "source": [
        "#lets plot the librosa audio data\n",
        "plt.figure(figsize = (14,5))\n",
        "plt.plot(audio_data)"
      ],
      "execution_count": 4,
      "outputs": [
        {
          "output_type": "execute_result",
          "data": {
            "text/plain": [
              "[<matplotlib.lines.Line2D at 0x7f6fb14204d0>]"
            ]
          },
          "metadata": {
            "tags": []
          },
          "execution_count": 4
        },
        {
          "output_type": "display_data",
          "data": {
            "image/png": "[encoded data removed]",
            "text/plain": [
              "<Figure size 1008x360 with 1 Axes>"
            ]
          },
          "metadata": {
            "tags": [],
            "needs_background": "light"
          }
        }
      ]
    },
    {
      "cell_type": "markdown",
      "metadata": {
        "id": "r2xEisF-hoW_"
      },
      "source": [
        "## **Extract Features**"
      ]
    },
    {
      "cell_type": "markdown",
      "metadata": {
        "id": "1m5eOFBciWuY"
      },
      "source": [
        "Here we will be using **Mel-Frequency-Cepstral-Coefficients (MFCC)** from the audio samples. The MFCC summarises the frequency distribution accross the window size, so it is possible to analyse both frequency and time characterstics of sound. These audio representations allow us to identify the features for classification.\n",
        "\n",
        "It will try to convert the audio into some kind of features based on the frequency and time characterstics, which will helps us to do the classification."
      ]
    },
    {
      "cell_type": "code",
      "metadata": {
        "id": "_UMo_6jLfeBW",
        "colab": {
          "base_uri": "https://localhost:8080/"
        },
        "outputId": "8f098b58-6938-4415-bb98-b20277b4d745"
      },
      "source": [
        "mfcc = librosa.feature.mfcc(y = audio_data, sr = audio_sample_rate, n_mfcc = 40)  #n_mfcc can be any no. randomly\n",
        "print(mfcc.shape)"
      ],
      "execution_count": 5,
      "outputs": [
        {
          "output_type": "stream",
          "text": [
            "(40, 220)\n"
          ],
          "name": "stdout"
        }
      ]
    },
    {
      "cell_type": "markdown",
      "metadata": {
        "id": "mJNJ7KLSwjqL"
      },
      "source": [
        "By executing the above line of code we can see all audio signal of the audio files are converted into the array of the dimensions (40,220)"
      ]
    },
    {
      "cell_type": "code",
      "metadata": {
        "id": "0zNbBEbFfd-9",
        "colab": {
          "base_uri": "https://localhost:8080/"
        },
        "outputId": "b01c3612-557b-4781-838e-fd913a02b85c"
      },
      "source": [
        "mfcc"
      ],
      "execution_count": 6,
      "outputs": [
        {
          "output_type": "execute_result",
          "data": {
            "text/plain": [
              "array([[-4.5982141e+02, -3.6349896e+02, -3.1940179e+02, ...,\n",
              "        -2.7719009e+02, -3.3211719e+02, -4.1543869e+02],\n",
              "       [ 6.6195465e+01,  3.9564667e+01,  3.3365135e+01, ...,\n",
              "        -2.0864253e+00, -5.9096046e+01, -9.1608521e+01],\n",
              "       [-2.2413015e+01, -2.0442844e+01, -1.6318405e+01, ...,\n",
              "         3.7529362e+01,  7.3955048e+01,  1.0159946e+02],\n",
              "       ...,\n",
              "       [ 4.6472721e+00, -4.7898465e-01,  6.2748593e-01, ...,\n",
              "         9.8104362e+00,  1.1225188e+01,  6.8496666e+00],\n",
              "       [-9.4043427e+00, -7.7588811e+00, -4.7153502e+00, ...,\n",
              "        -3.0425386e+00,  3.4132066e+00,  8.0588932e+00],\n",
              "       [ 4.2936635e+00,  1.6038146e+00, -1.8735063e-01, ...,\n",
              "         2.1842585e+00,  4.3648882e+00,  6.5833349e+00]], dtype=float32)"
            ]
          },
          "metadata": {
            "tags": []
          },
          "execution_count": 6
        }
      ]
    },
    {
      "cell_type": "markdown",
      "metadata": {
        "id": "9FNcolnlxcsU"
      },
      "source": [
        "This is nothing but these are patterns has been extracted based on the frequency and time characterstics and this will uniquely identify that particular audio sinal, i/e from which class it actually belong...This audio signal will be later used in the deep learning techniques.."
      ]
    },
    {
      "cell_type": "markdown",
      "metadata": {
        "id": "g04EKCo_d6fJ"
      },
      "source": [
        "Now, this was only for a single file.... we are suppose to apply it on every file. \n",
        "\n",
        "For that we will first **Import the data from the `train_wav.csv`**\n",
        "\n",
        "`train_wav.csv` is the file which we save (i.e train_wav.csv, test_wav.csv) while doing the EDA, where we replace all \".mp3\" from the filename coulumn to \".wav\".."
      ]
    },
    {
      "cell_type": "code",
      "metadata": {
        "id": "nbKR8ObxfduB",
        "colab": {
          "base_uri": "https://localhost:8080/",
          "height": 357
        },
        "outputId": "073e78e3-e97d-45ac-c996-0341041accfb"
      },
      "source": [
        "data_path = '/content/drive/MyDrive/Dataset/TrainAudio/'\n",
        "\n",
        "mdata = pd.read_csv(\"/content/drive/MyDrive/Dataset/train_wav.csv\",index_col=0)\n",
        "mdata.head(10)"
      ],
      "execution_count": 7,
      "outputs": [
        {
          "output_type": "execute_result",
          "data": {
            "text/html": [
              "<div>\n",
              "<style scoped>\n",
              "    .dataframe tbody tr th:only-of-type {\n",
              "        vertical-align: middle;\n",
              "    }\n",
              "\n",
              "    .dataframe tbody tr th {\n",
              "        vertical-align: top;\n",
              "    }\n",
              "\n",
              "    .dataframe thead th {\n",
              "        text-align: right;\n",
              "    }\n",
              "</style>\n",
              "<table border=\"1\" class=\"dataframe\">\n",
              "  <thead>\n",
              "    <tr style=\"text-align: right;\">\n",
              "      <th></th>\n",
              "      <th>filename</th>\n",
              "      <th>emotion</th>\n",
              "    </tr>\n",
              "  </thead>\n",
              "  <tbody>\n",
              "    <tr>\n",
              "      <th>0</th>\n",
              "      <td>18777.wav</td>\n",
              "      <td>neutral</td>\n",
              "    </tr>\n",
              "    <tr>\n",
              "      <th>1</th>\n",
              "      <td>24041.wav</td>\n",
              "      <td>neutral</td>\n",
              "    </tr>\n",
              "    <tr>\n",
              "      <th>2</th>\n",
              "      <td>1621.wav</td>\n",
              "      <td>joy</td>\n",
              "    </tr>\n",
              "    <tr>\n",
              "      <th>3</th>\n",
              "      <td>28883.wav</td>\n",
              "      <td>neutral</td>\n",
              "    </tr>\n",
              "    <tr>\n",
              "      <th>4</th>\n",
              "      <td>14918.wav</td>\n",
              "      <td>neutral</td>\n",
              "    </tr>\n",
              "    <tr>\n",
              "      <th>5</th>\n",
              "      <td>25793.wav</td>\n",
              "      <td>neutral</td>\n",
              "    </tr>\n",
              "    <tr>\n",
              "      <th>6</th>\n",
              "      <td>8382.wav</td>\n",
              "      <td>joy</td>\n",
              "    </tr>\n",
              "    <tr>\n",
              "      <th>7</th>\n",
              "      <td>50666.wav</td>\n",
              "      <td>disgust</td>\n",
              "    </tr>\n",
              "    <tr>\n",
              "      <th>8</th>\n",
              "      <td>28471.wav</td>\n",
              "      <td>surprise</td>\n",
              "    </tr>\n",
              "    <tr>\n",
              "      <th>9</th>\n",
              "      <td>1459.wav</td>\n",
              "      <td>neutral</td>\n",
              "    </tr>\n",
              "  </tbody>\n",
              "</table>\n",
              "</div>"
            ],
            "text/plain": [
              "    filename   emotion\n",
              "0  18777.wav   neutral\n",
              "1  24041.wav   neutral\n",
              "2   1621.wav       joy\n",
              "3  28883.wav   neutral\n",
              "4  14918.wav   neutral\n",
              "5  25793.wav   neutral\n",
              "6   8382.wav       joy\n",
              "7  50666.wav   disgust\n",
              "8  28471.wav  surprise\n",
              "9   1459.wav   neutral"
            ]
          },
          "metadata": {
            "tags": []
          },
          "execution_count": 7
        }
      ]
    },
    {
      "cell_type": "markdown",
      "metadata": {
        "id": "6ulLNgZJz3Bc"
      },
      "source": [
        "Now, I will define a function as **\"feature_extractor\"** which takes a `filename`, then in the function we will extract the audio data and the sample rate from *librosa.load()*, after that we will create features for the file using *mfcc *and at last finally to find out the scaled feature we will do the mean on the transpose of the particular *mfcc_features* that we are getting (it is a very important step)"
      ]
    },
    {
      "cell_type": "code",
      "metadata": {
        "id": "2wsUrDldfdp6"
      },
      "source": [
        "def feature_extractor(file_name):\n",
        "  audio_data, audio_sample_rate = librosa.load(file_name, res_type = 'kaiser_fast')\n",
        "  mfcc_features = librosa.feature.mfcc(y = audio_data, sr = audio_sample_rate, n_mfcc = 40)\n",
        "  mfcc_scaled_features = np.mean(mfcc_features.T, axis = 0)\n",
        "  return mfcc_scaled_features"
      ],
      "execution_count": 8,
      "outputs": []
    },
    {
      "cell_type": "markdown",
      "metadata": {
        "id": "E6zbyFOG2w8u"
      },
      "source": [
        "For applying this function in every audio file....I will iterate through the csv file... in order to do that i will perform the steps below"
      ]
    },
    {
      "cell_type": "code",
      "metadata": {
        "id": "B3wVB7VdfdnK",
        "colab": {
          "base_uri": "https://localhost:8080/"
        },
        "outputId": "8255c3c2-b3e0-46a2-e4a0-502283fb0e5a"
      },
      "source": [
        "from tqdm import tqdm #by this library we can see the progress\n",
        "\n",
        "# now we will iterate through every file to extract the features\n",
        "\n",
        "extracted_features = []\n",
        "fl = []\n",
        "\n",
        "# i am going to iterate through mdata.iterrows(), iterrows function will help us to iter through all the rows of mdata\n",
        "for index_num, row in tqdm(mdata.iterrows()): \n",
        " \n",
        "  #now we will join the path of the audio data (specified in above code as data_path) \n",
        "  #with the filename in the mdata dataframe so that it looks something like this: \"TrainAudio/0.wav\"\n",
        "  filename = os.path.join(os.path.abspath(data_path), str(row['filename']))\n",
        "\n",
        "  #then we are jut going to get the class (i.e emotion) as that is the output feature or the target variable \n",
        "  final_class_labels = row['emotion']\n",
        "  fl.append(final_class_labels)\n",
        "\n",
        "  #then we are going to create the independent features...i.e i am going to pass the file name in the feature_extractor function define in above cell\n",
        "  #the output of the function is stored in the variable as \"scaled_data\"\n",
        "  scaled_data = feature_extractor(filename)\n",
        "\n",
        "  #then we will append the scaled_data with the final_class_labels list in the extacted_features list created above\n",
        "  extracted_features.append(scaled_data)\n",
        "\n",
        "  #The reason of appending the scaled_data and final_class in the extracted_features is because later on i will convert this into a dataframe\n"
      ],
      "execution_count": 10,
      "outputs": [
        {
          "output_type": "stream",
          "text": [
            "17it [00:00, 16.10it/s]/usr/local/lib/python3.7/dist-packages/librosa/core/audio.py:165: UserWarning: PySoundFile failed. Trying audioread instead.\n",
            "  warnings.warn(\"PySoundFile failed. Trying audioread instead.\")\n",
            "5816it [06:57, 13.92it/s]\n"
          ],
          "name": "stderr"
        }
      ]
    },
    {
      "cell_type": "markdown",
      "metadata": {
        "id": "HXByW0FMtLK8"
      },
      "source": [
        "Converting the extacted_feature list into a Dataframe"
      ]
    },
    {
      "cell_type": "code",
      "metadata": {
        "id": "3hRZB4eJfdkc",
        "colab": {
          "base_uri": "https://localhost:8080/",
          "height": 223
        },
        "outputId": "27818b32-29bd-4e34-87c7-0a931535d823"
      },
      "source": [
        "extracted_features_df = pd.DataFrame(extracted_features)\n",
        "extracted_features_df['emotion'] = fl\n",
        "extracted_features_df.head()"
      ],
      "execution_count": 11,
      "outputs": [
        {
          "output_type": "execute_result",
          "data": {
            "text/html": [
              "<div>\n",
              "<style scoped>\n",
              "    .dataframe tbody tr th:only-of-type {\n",
              "        vertical-align: middle;\n",
              "    }\n",
              "\n",
              "    .dataframe tbody tr th {\n",
              "        vertical-align: top;\n",
              "    }\n",
              "\n",
              "    .dataframe thead th {\n",
              "        text-align: right;\n",
              "    }\n",
              "</style>\n",
              "<table border=\"1\" class=\"dataframe\">\n",
              "  <thead>\n",
              "    <tr style=\"text-align: right;\">\n",
              "      <th></th>\n",
              "      <th>0</th>\n",
              "      <th>1</th>\n",
              "      <th>2</th>\n",
              "      <th>3</th>\n",
              "      <th>4</th>\n",
              "      <th>5</th>\n",
              "      <th>6</th>\n",
              "      <th>7</th>\n",
              "      <th>8</th>\n",
              "      <th>9</th>\n",
              "      <th>10</th>\n",
              "      <th>11</th>\n",
              "      <th>12</th>\n",
              "      <th>13</th>\n",
              "      <th>14</th>\n",
              "      <th>15</th>\n",
              "      <th>16</th>\n",
              "      <th>17</th>\n",
              "      <th>18</th>\n",
              "      <th>19</th>\n",
              "      <th>20</th>\n",
              "      <th>21</th>\n",
              "      <th>22</th>\n",
              "      <th>23</th>\n",
              "      <th>24</th>\n",
              "      <th>25</th>\n",
              "      <th>26</th>\n",
              "      <th>27</th>\n",
              "      <th>28</th>\n",
              "      <th>29</th>\n",
              "      <th>30</th>\n",
              "      <th>31</th>\n",
              "      <th>32</th>\n",
              "      <th>33</th>\n",
              "      <th>34</th>\n",
              "      <th>35</th>\n",
              "      <th>36</th>\n",
              "      <th>37</th>\n",
              "      <th>38</th>\n",
              "      <th>39</th>\n",
              "      <th>emotion</th>\n",
              "    </tr>\n",
              "  </thead>\n",
              "  <tbody>\n",
              "    <tr>\n",
              "      <th>0</th>\n",
              "      <td>-284.482758</td>\n",
              "      <td>126.683823</td>\n",
              "      <td>-36.903915</td>\n",
              "      <td>43.976826</td>\n",
              "      <td>-12.961371</td>\n",
              "      <td>8.616020</td>\n",
              "      <td>-10.584815</td>\n",
              "      <td>12.599451</td>\n",
              "      <td>-14.106994</td>\n",
              "      <td>2.853625</td>\n",
              "      <td>-19.962849</td>\n",
              "      <td>1.703447</td>\n",
              "      <td>-13.035324</td>\n",
              "      <td>-0.337073</td>\n",
              "      <td>-9.029764</td>\n",
              "      <td>2.131634</td>\n",
              "      <td>-8.832778</td>\n",
              "      <td>-1.266960</td>\n",
              "      <td>2.483978</td>\n",
              "      <td>4.040265</td>\n",
              "      <td>-2.574543</td>\n",
              "      <td>4.316617</td>\n",
              "      <td>5.576896</td>\n",
              "      <td>4.538510</td>\n",
              "      <td>-2.905437</td>\n",
              "      <td>-9.130464</td>\n",
              "      <td>-7.126249</td>\n",
              "      <td>-4.621140</td>\n",
              "      <td>1.610941</td>\n",
              "      <td>-1.597993</td>\n",
              "      <td>-4.868733</td>\n",
              "      <td>-4.488620</td>\n",
              "      <td>0.970274</td>\n",
              "      <td>5.310254</td>\n",
              "      <td>2.055159</td>\n",
              "      <td>-4.810302</td>\n",
              "      <td>-3.550115</td>\n",
              "      <td>-0.912865</td>\n",
              "      <td>0.987710</td>\n",
              "      <td>-3.169195</td>\n",
              "      <td>neutral</td>\n",
              "    </tr>\n",
              "    <tr>\n",
              "      <th>1</th>\n",
              "      <td>-291.756378</td>\n",
              "      <td>86.479385</td>\n",
              "      <td>-31.917055</td>\n",
              "      <td>28.526455</td>\n",
              "      <td>-21.277540</td>\n",
              "      <td>6.544608</td>\n",
              "      <td>-26.522366</td>\n",
              "      <td>0.857760</td>\n",
              "      <td>-19.578068</td>\n",
              "      <td>9.424254</td>\n",
              "      <td>-15.387749</td>\n",
              "      <td>-1.319279</td>\n",
              "      <td>-14.049103</td>\n",
              "      <td>3.400151</td>\n",
              "      <td>-9.289942</td>\n",
              "      <td>-1.578900</td>\n",
              "      <td>-10.043350</td>\n",
              "      <td>3.212034</td>\n",
              "      <td>-8.140825</td>\n",
              "      <td>-2.060176</td>\n",
              "      <td>-5.583338</td>\n",
              "      <td>-1.114504</td>\n",
              "      <td>-2.181613</td>\n",
              "      <td>0.425673</td>\n",
              "      <td>-0.556289</td>\n",
              "      <td>3.811432</td>\n",
              "      <td>0.392357</td>\n",
              "      <td>1.247997</td>\n",
              "      <td>-1.299044</td>\n",
              "      <td>-2.572325</td>\n",
              "      <td>-4.302300</td>\n",
              "      <td>-1.309161</td>\n",
              "      <td>-1.129280</td>\n",
              "      <td>-0.781117</td>\n",
              "      <td>0.173170</td>\n",
              "      <td>0.295313</td>\n",
              "      <td>0.099329</td>\n",
              "      <td>0.685805</td>\n",
              "      <td>-0.623442</td>\n",
              "      <td>-1.003877</td>\n",
              "      <td>neutral</td>\n",
              "    </tr>\n",
              "    <tr>\n",
              "      <th>2</th>\n",
              "      <td>-381.791229</td>\n",
              "      <td>125.338554</td>\n",
              "      <td>-13.164070</td>\n",
              "      <td>70.746918</td>\n",
              "      <td>-14.940821</td>\n",
              "      <td>0.121462</td>\n",
              "      <td>-15.981153</td>\n",
              "      <td>-1.870955</td>\n",
              "      <td>-17.828106</td>\n",
              "      <td>0.436152</td>\n",
              "      <td>-17.293005</td>\n",
              "      <td>5.565217</td>\n",
              "      <td>-11.894168</td>\n",
              "      <td>-2.076418</td>\n",
              "      <td>-5.616802</td>\n",
              "      <td>-4.331069</td>\n",
              "      <td>-10.762467</td>\n",
              "      <td>-5.230440</td>\n",
              "      <td>-8.456790</td>\n",
              "      <td>4.806179</td>\n",
              "      <td>-5.453306</td>\n",
              "      <td>-2.912219</td>\n",
              "      <td>3.964604</td>\n",
              "      <td>-2.836176</td>\n",
              "      <td>0.997076</td>\n",
              "      <td>1.716107</td>\n",
              "      <td>-3.087765</td>\n",
              "      <td>-1.639011</td>\n",
              "      <td>-1.344397</td>\n",
              "      <td>3.572985</td>\n",
              "      <td>8.062300</td>\n",
              "      <td>5.931730</td>\n",
              "      <td>9.156085</td>\n",
              "      <td>4.193003</td>\n",
              "      <td>-0.938635</td>\n",
              "      <td>-5.856699</td>\n",
              "      <td>-2.251703</td>\n",
              "      <td>-2.078479</td>\n",
              "      <td>1.565114</td>\n",
              "      <td>-3.527836</td>\n",
              "      <td>joy</td>\n",
              "    </tr>\n",
              "    <tr>\n",
              "      <th>3</th>\n",
              "      <td>-239.395355</td>\n",
              "      <td>117.492027</td>\n",
              "      <td>-47.426998</td>\n",
              "      <td>15.590010</td>\n",
              "      <td>-31.452276</td>\n",
              "      <td>10.473926</td>\n",
              "      <td>-15.031138</td>\n",
              "      <td>-3.744267</td>\n",
              "      <td>-13.968476</td>\n",
              "      <td>11.110762</td>\n",
              "      <td>-15.036322</td>\n",
              "      <td>0.180499</td>\n",
              "      <td>-14.177242</td>\n",
              "      <td>0.895325</td>\n",
              "      <td>-7.295934</td>\n",
              "      <td>-3.230096</td>\n",
              "      <td>-14.846791</td>\n",
              "      <td>0.266336</td>\n",
              "      <td>-5.302069</td>\n",
              "      <td>-0.801351</td>\n",
              "      <td>-4.021996</td>\n",
              "      <td>2.557503</td>\n",
              "      <td>-2.232066</td>\n",
              "      <td>-0.212296</td>\n",
              "      <td>-1.715083</td>\n",
              "      <td>0.353755</td>\n",
              "      <td>-1.177485</td>\n",
              "      <td>3.265667</td>\n",
              "      <td>2.864474</td>\n",
              "      <td>-0.795712</td>\n",
              "      <td>-1.337174</td>\n",
              "      <td>-0.222455</td>\n",
              "      <td>0.076919</td>\n",
              "      <td>2.235695</td>\n",
              "      <td>2.183837</td>\n",
              "      <td>-0.755808</td>\n",
              "      <td>-0.094991</td>\n",
              "      <td>0.606268</td>\n",
              "      <td>0.243874</td>\n",
              "      <td>-0.301148</td>\n",
              "      <td>neutral</td>\n",
              "    </tr>\n",
              "    <tr>\n",
              "      <th>4</th>\n",
              "      <td>-396.290375</td>\n",
              "      <td>87.998093</td>\n",
              "      <td>-8.710562</td>\n",
              "      <td>25.149500</td>\n",
              "      <td>-20.656134</td>\n",
              "      <td>19.762743</td>\n",
              "      <td>-8.971614</td>\n",
              "      <td>11.300339</td>\n",
              "      <td>-12.466163</td>\n",
              "      <td>15.747955</td>\n",
              "      <td>-8.156489</td>\n",
              "      <td>3.519957</td>\n",
              "      <td>-10.689272</td>\n",
              "      <td>8.925682</td>\n",
              "      <td>-10.783387</td>\n",
              "      <td>-0.155382</td>\n",
              "      <td>-6.888598</td>\n",
              "      <td>2.062116</td>\n",
              "      <td>-9.169439</td>\n",
              "      <td>0.586334</td>\n",
              "      <td>-1.464928</td>\n",
              "      <td>-2.857843</td>\n",
              "      <td>-4.133466</td>\n",
              "      <td>2.324855</td>\n",
              "      <td>-4.027257</td>\n",
              "      <td>-2.621431</td>\n",
              "      <td>-1.941476</td>\n",
              "      <td>0.106234</td>\n",
              "      <td>-1.970433</td>\n",
              "      <td>-1.547358</td>\n",
              "      <td>2.298595</td>\n",
              "      <td>1.576666</td>\n",
              "      <td>-0.154721</td>\n",
              "      <td>0.841168</td>\n",
              "      <td>0.910432</td>\n",
              "      <td>-1.836838</td>\n",
              "      <td>-2.386293</td>\n",
              "      <td>0.062624</td>\n",
              "      <td>-0.866900</td>\n",
              "      <td>-3.002568</td>\n",
              "      <td>neutral</td>\n",
              "    </tr>\n",
              "  </tbody>\n",
              "</table>\n",
              "</div>"
            ],
            "text/plain": [
              "            0           1          2  ...        38        39  emotion\n",
              "0 -284.482758  126.683823 -36.903915  ...  0.987710 -3.169195  neutral\n",
              "1 -291.756378   86.479385 -31.917055  ... -0.623442 -1.003877  neutral\n",
              "2 -381.791229  125.338554 -13.164070  ...  1.565114 -3.527836      joy\n",
              "3 -239.395355  117.492027 -47.426998  ...  0.243874 -0.301148  neutral\n",
              "4 -396.290375   87.998093  -8.710562  ... -0.866900 -3.002568  neutral\n",
              "\n",
              "[5 rows x 41 columns]"
            ]
          },
          "metadata": {
            "tags": []
          },
          "execution_count": 11
        }
      ]
    },
    {
      "cell_type": "markdown",
      "metadata": {
        "id": "xacBymEFuUEq"
      },
      "source": [
        "Saving the file..."
      ]
    },
    {
      "cell_type": "code",
      "metadata": {
        "id": "DDFno7J0fdh_"
      },
      "source": [
        "extracted_features_df.to_csv(\"extracted_features.csv\")"
      ],
      "execution_count": 12,
      "outputs": []
    },
    {
      "cell_type": "markdown",
      "metadata": {
        "id": "u7Kg9VZkEWzo"
      },
      "source": [
        "## Do the Same for TestFile i.e. **test_wav.csv**"
      ]
    },
    {
      "cell_type": "code",
      "metadata": {
        "id": "D8nbuZyTEWXv"
      },
      "source": [
        ""
      ],
      "execution_count": 12,
      "outputs": []
    },
    {
      "cell_type": "code",
      "metadata": {
        "colab": {
          "base_uri": "https://localhost:8080/",
          "height": 357
        },
        "id": "0V-2B-_hEWUX",
        "outputId": "ad29acde-c4ff-4c4a-b855-a9a41f34e505"
      },
      "source": [
        "data_path = '/content/drive/MyDrive/Dataset/TestAudio/'\n",
        "\n",
        "mdata = pd.read_csv(\"/content/drive/MyDrive/Dataset/test_wav.csv\",index_col=0)\n",
        "mdata.head(10)"
      ],
      "execution_count": 13,
      "outputs": [
        {
          "output_type": "execute_result",
          "data": {
            "text/html": [
              "<div>\n",
              "<style scoped>\n",
              "    .dataframe tbody tr th:only-of-type {\n",
              "        vertical-align: middle;\n",
              "    }\n",
              "\n",
              "    .dataframe tbody tr th {\n",
              "        vertical-align: top;\n",
              "    }\n",
              "\n",
              "    .dataframe thead th {\n",
              "        text-align: right;\n",
              "    }\n",
              "</style>\n",
              "<table border=\"1\" class=\"dataframe\">\n",
              "  <thead>\n",
              "    <tr style=\"text-align: right;\">\n",
              "      <th></th>\n",
              "      <th>filename</th>\n",
              "    </tr>\n",
              "  </thead>\n",
              "  <tbody>\n",
              "    <tr>\n",
              "      <th>0</th>\n",
              "      <td>26199.wav</td>\n",
              "    </tr>\n",
              "    <tr>\n",
              "      <th>1</th>\n",
              "      <td>692.wav</td>\n",
              "    </tr>\n",
              "    <tr>\n",
              "      <th>2</th>\n",
              "      <td>16821.wav</td>\n",
              "    </tr>\n",
              "    <tr>\n",
              "      <th>3</th>\n",
              "      <td>1608.wav</td>\n",
              "    </tr>\n",
              "    <tr>\n",
              "      <th>4</th>\n",
              "      <td>47947.wav</td>\n",
              "    </tr>\n",
              "    <tr>\n",
              "      <th>5</th>\n",
              "      <td>26679.wav</td>\n",
              "    </tr>\n",
              "    <tr>\n",
              "      <th>6</th>\n",
              "      <td>45080.wav</td>\n",
              "    </tr>\n",
              "    <tr>\n",
              "      <th>7</th>\n",
              "      <td>15385.wav</td>\n",
              "    </tr>\n",
              "    <tr>\n",
              "      <th>8</th>\n",
              "      <td>29210.wav</td>\n",
              "    </tr>\n",
              "    <tr>\n",
              "      <th>9</th>\n",
              "      <td>22481.wav</td>\n",
              "    </tr>\n",
              "  </tbody>\n",
              "</table>\n",
              "</div>"
            ],
            "text/plain": [
              "    filename\n",
              "0  26199.wav\n",
              "1    692.wav\n",
              "2  16821.wav\n",
              "3   1608.wav\n",
              "4  47947.wav\n",
              "5  26679.wav\n",
              "6  45080.wav\n",
              "7  15385.wav\n",
              "8  29210.wav\n",
              "9  22481.wav"
            ]
          },
          "metadata": {
            "tags": []
          },
          "execution_count": 13
        }
      ]
    },
    {
      "cell_type": "code",
      "metadata": {
        "colab": {
          "base_uri": "https://localhost:8080/"
        },
        "id": "N5KF1r1QEWJG",
        "outputId": "0d0940a6-bb49-4f07-f60a-7921a3fee100"
      },
      "source": [
        "from tqdm import tqdm #by this library we can see the progress\n",
        "\n",
        "# now we will iterate through every file to extract the features\n",
        "\n",
        "extracted_features = []\n",
        "\n",
        "# i am going to iterate through mdata.iterrows(), iterrows function will help us to iter through all the rows of mdata\n",
        "for index_num, row in tqdm(mdata.iterrows()): \n",
        " \n",
        "  #now we will join the path of the audio data (specified in above code as data_path) \n",
        "  #with the filename in the mdata dataframe so that it looks something like this: \"TestAudio/0.wav\"\n",
        "  filename = os.path.join(os.path.abspath(data_path), str(row['filename']))\n",
        "\n",
        "  #then we are going to create the independent features...i.e i am going to pass the file name in the feature_extractor function define in above cell\n",
        "  #the output of the function is stored in the variable as \"scaled_data\"\n",
        "  scaled_data = feature_extractor(filename)\n",
        "\n",
        "  #then we will append the scaled_data with the final_class_labels list in the extacted_features list created above\n",
        "  extracted_features.append(scaled_data)\n",
        "\n",
        "  #The reason of appending the scaled_data and final_class in the extracted_features is because later on i will convert this into a dataframe"
      ],
      "execution_count": 14,
      "outputs": [
        {
          "output_type": "stream",
          "text": [
            "2492it [03:08, 13.24it/s]\n"
          ],
          "name": "stderr"
        }
      ]
    },
    {
      "cell_type": "code",
      "metadata": {
        "id": "M25K6BdYEWFr",
        "colab": {
          "base_uri": "https://localhost:8080/",
          "height": 223
        },
        "outputId": "2407ad56-cf20-46f3-9a07-b13750550ecf"
      },
      "source": [
        "extracted_features_df = pd.DataFrame(extracted_features)\n",
        "extracted_features_df.head()"
      ],
      "execution_count": 15,
      "outputs": [
        {
          "output_type": "execute_result",
          "data": {
            "text/html": [
              "<div>\n",
              "<style scoped>\n",
              "    .dataframe tbody tr th:only-of-type {\n",
              "        vertical-align: middle;\n",
              "    }\n",
              "\n",
              "    .dataframe tbody tr th {\n",
              "        vertical-align: top;\n",
              "    }\n",
              "\n",
              "    .dataframe thead th {\n",
              "        text-align: right;\n",
              "    }\n",
              "</style>\n",
              "<table border=\"1\" class=\"dataframe\">\n",
              "  <thead>\n",
              "    <tr style=\"text-align: right;\">\n",
              "      <th></th>\n",
              "      <th>0</th>\n",
              "      <th>1</th>\n",
              "      <th>2</th>\n",
              "      <th>3</th>\n",
              "      <th>4</th>\n",
              "      <th>5</th>\n",
              "      <th>6</th>\n",
              "      <th>7</th>\n",
              "      <th>8</th>\n",
              "      <th>9</th>\n",
              "      <th>10</th>\n",
              "      <th>11</th>\n",
              "      <th>12</th>\n",
              "      <th>13</th>\n",
              "      <th>14</th>\n",
              "      <th>15</th>\n",
              "      <th>16</th>\n",
              "      <th>17</th>\n",
              "      <th>18</th>\n",
              "      <th>19</th>\n",
              "      <th>20</th>\n",
              "      <th>21</th>\n",
              "      <th>22</th>\n",
              "      <th>23</th>\n",
              "      <th>24</th>\n",
              "      <th>25</th>\n",
              "      <th>26</th>\n",
              "      <th>27</th>\n",
              "      <th>28</th>\n",
              "      <th>29</th>\n",
              "      <th>30</th>\n",
              "      <th>31</th>\n",
              "      <th>32</th>\n",
              "      <th>33</th>\n",
              "      <th>34</th>\n",
              "      <th>35</th>\n",
              "      <th>36</th>\n",
              "      <th>37</th>\n",
              "      <th>38</th>\n",
              "      <th>39</th>\n",
              "    </tr>\n",
              "  </thead>\n",
              "  <tbody>\n",
              "    <tr>\n",
              "      <th>0</th>\n",
              "      <td>-365.498199</td>\n",
              "      <td>117.096603</td>\n",
              "      <td>-45.860619</td>\n",
              "      <td>26.170340</td>\n",
              "      <td>-19.327950</td>\n",
              "      <td>5.826083</td>\n",
              "      <td>-8.625709</td>\n",
              "      <td>3.698611</td>\n",
              "      <td>-9.505263</td>\n",
              "      <td>4.179258</td>\n",
              "      <td>-13.381192</td>\n",
              "      <td>-3.726986</td>\n",
              "      <td>-7.116247</td>\n",
              "      <td>3.226846</td>\n",
              "      <td>5.748386</td>\n",
              "      <td>1.476014</td>\n",
              "      <td>1.322597</td>\n",
              "      <td>4.594974</td>\n",
              "      <td>0.649197</td>\n",
              "      <td>-1.733015</td>\n",
              "      <td>0.814768</td>\n",
              "      <td>-0.299269</td>\n",
              "      <td>-6.527150</td>\n",
              "      <td>-4.502021</td>\n",
              "      <td>-3.637551</td>\n",
              "      <td>1.005939</td>\n",
              "      <td>2.376040</td>\n",
              "      <td>1.181016</td>\n",
              "      <td>5.352484</td>\n",
              "      <td>1.096276</td>\n",
              "      <td>-4.148792</td>\n",
              "      <td>-0.943505</td>\n",
              "      <td>1.336754</td>\n",
              "      <td>1.921744</td>\n",
              "      <td>2.171972</td>\n",
              "      <td>-0.493963</td>\n",
              "      <td>0.609537</td>\n",
              "      <td>-0.420111</td>\n",
              "      <td>-1.198725</td>\n",
              "      <td>-0.289114</td>\n",
              "    </tr>\n",
              "    <tr>\n",
              "      <th>1</th>\n",
              "      <td>-347.949188</td>\n",
              "      <td>119.581123</td>\n",
              "      <td>-64.870789</td>\n",
              "      <td>28.289196</td>\n",
              "      <td>-17.227034</td>\n",
              "      <td>1.405791</td>\n",
              "      <td>-19.127012</td>\n",
              "      <td>-0.037109</td>\n",
              "      <td>-4.695950</td>\n",
              "      <td>4.757370</td>\n",
              "      <td>-16.268415</td>\n",
              "      <td>12.414000</td>\n",
              "      <td>-8.603649</td>\n",
              "      <td>11.250471</td>\n",
              "      <td>-0.791979</td>\n",
              "      <td>-2.082313</td>\n",
              "      <td>-6.251864</td>\n",
              "      <td>-2.138777</td>\n",
              "      <td>-4.154130</td>\n",
              "      <td>-5.112389</td>\n",
              "      <td>-5.249875</td>\n",
              "      <td>-1.381801</td>\n",
              "      <td>-7.779440</td>\n",
              "      <td>1.614060</td>\n",
              "      <td>-2.386897</td>\n",
              "      <td>-2.998730</td>\n",
              "      <td>-3.988345</td>\n",
              "      <td>-1.523020</td>\n",
              "      <td>0.471276</td>\n",
              "      <td>0.553853</td>\n",
              "      <td>-2.383639</td>\n",
              "      <td>7.244662</td>\n",
              "      <td>2.767389</td>\n",
              "      <td>0.624551</td>\n",
              "      <td>-0.911286</td>\n",
              "      <td>-0.642175</td>\n",
              "      <td>2.007694</td>\n",
              "      <td>1.311860</td>\n",
              "      <td>0.557786</td>\n",
              "      <td>-1.679821</td>\n",
              "    </tr>\n",
              "    <tr>\n",
              "      <th>2</th>\n",
              "      <td>-246.307327</td>\n",
              "      <td>127.621956</td>\n",
              "      <td>-64.692360</td>\n",
              "      <td>26.010170</td>\n",
              "      <td>-21.393129</td>\n",
              "      <td>1.611420</td>\n",
              "      <td>-25.611008</td>\n",
              "      <td>-3.000171</td>\n",
              "      <td>-19.976074</td>\n",
              "      <td>13.602427</td>\n",
              "      <td>-20.220438</td>\n",
              "      <td>-1.328003</td>\n",
              "      <td>-8.998646</td>\n",
              "      <td>5.648849</td>\n",
              "      <td>-1.329489</td>\n",
              "      <td>2.937313</td>\n",
              "      <td>-9.322475</td>\n",
              "      <td>0.491171</td>\n",
              "      <td>-8.508337</td>\n",
              "      <td>-3.777499</td>\n",
              "      <td>1.956479</td>\n",
              "      <td>-4.159590</td>\n",
              "      <td>-4.693715</td>\n",
              "      <td>-2.616529</td>\n",
              "      <td>-8.337893</td>\n",
              "      <td>-8.267322</td>\n",
              "      <td>-6.528329</td>\n",
              "      <td>-8.053255</td>\n",
              "      <td>-8.756011</td>\n",
              "      <td>-4.309391</td>\n",
              "      <td>-5.639263</td>\n",
              "      <td>-7.899954</td>\n",
              "      <td>-6.496264</td>\n",
              "      <td>-1.968293</td>\n",
              "      <td>-1.530059</td>\n",
              "      <td>-4.412982</td>\n",
              "      <td>1.180403</td>\n",
              "      <td>-0.227306</td>\n",
              "      <td>-1.377517</td>\n",
              "      <td>-2.090379</td>\n",
              "    </tr>\n",
              "    <tr>\n",
              "      <th>3</th>\n",
              "      <td>-354.178925</td>\n",
              "      <td>115.171700</td>\n",
              "      <td>-29.250555</td>\n",
              "      <td>28.661533</td>\n",
              "      <td>-19.046085</td>\n",
              "      <td>14.314231</td>\n",
              "      <td>-15.076301</td>\n",
              "      <td>10.669386</td>\n",
              "      <td>-13.682147</td>\n",
              "      <td>8.825348</td>\n",
              "      <td>-7.674388</td>\n",
              "      <td>10.033533</td>\n",
              "      <td>-7.335188</td>\n",
              "      <td>5.590045</td>\n",
              "      <td>-3.345659</td>\n",
              "      <td>5.903026</td>\n",
              "      <td>-3.312939</td>\n",
              "      <td>2.215315</td>\n",
              "      <td>-3.286599</td>\n",
              "      <td>0.610735</td>\n",
              "      <td>-2.747557</td>\n",
              "      <td>-0.006787</td>\n",
              "      <td>-3.942774</td>\n",
              "      <td>-1.357584</td>\n",
              "      <td>-4.423564</td>\n",
              "      <td>-1.568985</td>\n",
              "      <td>-2.932627</td>\n",
              "      <td>-3.079486</td>\n",
              "      <td>-2.911442</td>\n",
              "      <td>-4.484192</td>\n",
              "      <td>-1.678067</td>\n",
              "      <td>-3.059764</td>\n",
              "      <td>-3.152131</td>\n",
              "      <td>-3.387888</td>\n",
              "      <td>-2.307304</td>\n",
              "      <td>-3.455725</td>\n",
              "      <td>-1.442823</td>\n",
              "      <td>-1.538246</td>\n",
              "      <td>0.305538</td>\n",
              "      <td>-0.026795</td>\n",
              "    </tr>\n",
              "    <tr>\n",
              "      <th>4</th>\n",
              "      <td>-402.002899</td>\n",
              "      <td>131.972260</td>\n",
              "      <td>-3.767405</td>\n",
              "      <td>57.126369</td>\n",
              "      <td>-5.330755</td>\n",
              "      <td>14.938948</td>\n",
              "      <td>-10.694655</td>\n",
              "      <td>-0.575818</td>\n",
              "      <td>-2.828084</td>\n",
              "      <td>-2.775017</td>\n",
              "      <td>5.426503</td>\n",
              "      <td>-11.814539</td>\n",
              "      <td>6.172842</td>\n",
              "      <td>-6.474564</td>\n",
              "      <td>-1.124049</td>\n",
              "      <td>-2.844613</td>\n",
              "      <td>-4.112265</td>\n",
              "      <td>0.511748</td>\n",
              "      <td>-2.982589</td>\n",
              "      <td>0.428808</td>\n",
              "      <td>-5.600098</td>\n",
              "      <td>1.815831</td>\n",
              "      <td>-1.625146</td>\n",
              "      <td>0.119953</td>\n",
              "      <td>3.307432</td>\n",
              "      <td>-0.293566</td>\n",
              "      <td>-0.053331</td>\n",
              "      <td>-0.411368</td>\n",
              "      <td>0.906042</td>\n",
              "      <td>-1.957615</td>\n",
              "      <td>1.770211</td>\n",
              "      <td>-0.503118</td>\n",
              "      <td>-0.532595</td>\n",
              "      <td>1.169265</td>\n",
              "      <td>-0.273719</td>\n",
              "      <td>2.817329</td>\n",
              "      <td>1.192993</td>\n",
              "      <td>0.105612</td>\n",
              "      <td>-0.235465</td>\n",
              "      <td>0.841233</td>\n",
              "    </tr>\n",
              "  </tbody>\n",
              "</table>\n",
              "</div>"
            ],
            "text/plain": [
              "           0           1          2   ...        37        38        39\n",
              "0 -365.498199  117.096603 -45.860619  ... -0.420111 -1.198725 -0.289114\n",
              "1 -347.949188  119.581123 -64.870789  ...  1.311860  0.557786 -1.679821\n",
              "2 -246.307327  127.621956 -64.692360  ... -0.227306 -1.377517 -2.090379\n",
              "3 -354.178925  115.171700 -29.250555  ... -1.538246  0.305538 -0.026795\n",
              "4 -402.002899  131.972260  -3.767405  ...  0.105612 -0.235465  0.841233\n",
              "\n",
              "[5 rows x 40 columns]"
            ]
          },
          "metadata": {
            "tags": []
          },
          "execution_count": 15
        }
      ]
    },
    {
      "cell_type": "code",
      "metadata": {
        "id": "6kl-cX5bEWCv"
      },
      "source": [
        "extracted_features_df.to_csv(\"extracted_features_test.csv\")"
      ],
      "execution_count": 16,
      "outputs": []
    },
    {
      "cell_type": "markdown",
      "metadata": {
        "id": "ixF1ixzg2QBV"
      },
      "source": [
        "# **The data is ready for model training**"
      ]
    }
  ]
}